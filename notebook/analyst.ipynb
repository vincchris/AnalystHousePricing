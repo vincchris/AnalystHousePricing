{
 "cells": [
  {
   "cell_type": "code",
   "execution_count": 2,
   "id": "8d1b0fb3",
   "metadata": {},
   "outputs": [],
   "source": [
    "import pandas as pd\n",
    "import numpy as np\n",
    "import matplotlib.pyplot as plt\n",
    "import seaborn as sns\n",
    "from sklearn.model_selection import train_test_split\n",
    "from sklearn.linear_model import LinearRegression\n",
    "from sklearn.metrics import mean_squared_error, r2_score\n",
    "from sklearn.impute import SimpleImputer\n",
    "from sklearn.pipeline import Pipeline\n"
   ]
  },
  {
   "cell_type": "code",
   "execution_count": 3,
   "id": "da5a5195",
   "metadata": {},
   "outputs": [],
   "source": [
    "data = pd.read_csv('../data/house_prices.csv')"
   ]
  },
  {
   "cell_type": "code",
   "execution_count": 4,
   "id": "68d35362",
   "metadata": {},
   "outputs": [
    {
     "name": "stdout",
     "output_type": "stream",
     "text": [
      "         Index                                              Title  \\\n",
      "0            0  1 BHK Ready to Occupy Flat for sale in Srushti...   \n",
      "1            1  2 BHK Ready to Occupy Flat for sale in Dosti V...   \n",
      "2            2  2 BHK Ready to Occupy Flat for sale in Sunrise...   \n",
      "3            3        1 BHK Ready to Occupy Flat for sale Kasheli   \n",
      "4            4  2 BHK Ready to Occupy Flat for sale in TenX Ha...   \n",
      "...        ...                                                ...   \n",
      "187526  187526  3 BHK Ready to Occupy Flat for sale in Bollywo...   \n",
      "187527  187527  3 BHK Ready to Occupy Flat for sale in Sushma ...   \n",
      "187528  187528  3 BHK Ready to Occupy Flat for sale in Bollywo...   \n",
      "187529  187529  2 BHK Ready to Occupy Flat for sale in Friends...   \n",
      "187530  187530  3 BHK Ready to Occupy Flat for sale in Affinit...   \n",
      "\n",
      "                                              Description Amount(in rupees)  \\\n",
      "0       Bhiwandi, Thane has an attractive 1 BHK Flat f...           42 Lac    \n",
      "1       One can find this stunning 2 BHK flat for sale...           98 Lac    \n",
      "2       Up for immediate sale is a 2 BHK apartment in ...          1.40 Cr    \n",
      "3       This beautiful 1 BHK Flat is available for sal...           25 Lac    \n",
      "4       This lovely 2 BHK Flat in Pokhran Road, Thane ...          1.60 Cr    \n",
      "...                                                   ...               ...   \n",
      "187526  This magnificent 3 BHK Flat is available for s...           63 Lac    \n",
      "187527  Have a look at this immaculate 3 BHK flat for ...           55 Lac    \n",
      "187528  Gazipur, Zirakpur has an appealing 3 BHK flat ...           76 Lac    \n",
      "187529  Up for immediate sale is a 2 BHK apartment in ...           30 Lac    \n",
      "187530  This exquisite 3 BHK Flat is offered for sale ...          1.18 Cr    \n",
      "\n",
      "        Price (in rupees)  location Carpet Area         Status         Floor  \\\n",
      "0                  6000.0     thane    500 sqft  Ready to Move  10 out of 11   \n",
      "1                 13799.0     thane    473 sqft  Ready to Move   3 out of 22   \n",
      "2                 17500.0     thane    779 sqft  Ready to Move  10 out of 29   \n",
      "3                     NaN     thane    530 sqft  Ready to Move    1 out of 3   \n",
      "4                 18824.0     thane    635 sqft  Ready to Move  20 out of 42   \n",
      "...                   ...       ...         ...            ...           ...   \n",
      "187526             3225.0  zirakpur         NaN  Ready to Move    2 out of 4   \n",
      "187527             3274.0  zirakpur         NaN  Ready to Move    4 out of 6   \n",
      "187528             4343.0  zirakpur   1250 sqft  Ready to Move    1 out of 3   \n",
      "187529             4231.0  zirakpur         NaN  Ready to Move    2 out of 2   \n",
      "187530             6162.0  zirakpur         NaN  Ready to Move   5 out of 13   \n",
      "\n",
      "         Transaction  ...        facing             overlooking  \\\n",
      "0             Resale  ...           NaN                     NaN   \n",
      "1             Resale  ...          East             Garden/Park   \n",
      "2             Resale  ...          East             Garden/Park   \n",
      "3             Resale  ...           NaN                     NaN   \n",
      "4             Resale  ...          West  Garden/Park, Main Road   \n",
      "...              ...  ...           ...                     ...   \n",
      "187526  New Property  ...          East             Garden/Park   \n",
      "187527        Resale  ...  North - East  Garden/Park, Main Road   \n",
      "187528        Resale  ...          East  Garden/Park, Main Road   \n",
      "187529        Resale  ...           NaN               Main Road   \n",
      "187530        Resale  ...  North - East       Garden/Park, Pool   \n",
      "\n",
      "                                    Society Bathroom Balcony Car Parking  \\\n",
      "0       Srushti Siddhi Mangal Murti Complex        1       2         NaN   \n",
      "1                               Dosti Vihar        2     NaN      1 Open   \n",
      "2                      Sunrise by Kalpataru        2     NaN   1 Covered   \n",
      "3                                       NaN        1       1         NaN   \n",
      "4               TenX Habitat Raymond Realty        2     NaN   1 Covered   \n",
      "...                                     ...      ...     ...         ...   \n",
      "187526                    Bollywood Esencia        3       3   1 Covered   \n",
      "187527                   Sushma Urban Views        3     NaN   1 Covered   \n",
      "187528                    Bollywood Esencia        3       2  1 Covered,   \n",
      "187529                      Friends Enclave        2     NaN         NaN   \n",
      "187530                      Affinity Greens        4       4   1 Covered   \n",
      "\n",
      "                   Ownership Super Area Dimensions  Plot Area  \n",
      "0                        NaN        NaN        NaN        NaN  \n",
      "1                   Freehold        NaN        NaN        NaN  \n",
      "2                   Freehold        NaN        NaN        NaN  \n",
      "3                        NaN        NaN        NaN        NaN  \n",
      "4       Co-operative Society        NaN        NaN        NaN  \n",
      "...                      ...        ...        ...        ...  \n",
      "187526              Freehold  1953 sqft        NaN        NaN  \n",
      "187527                   NaN  1680 sqft        NaN        NaN  \n",
      "187528              Freehold        NaN        NaN        NaN  \n",
      "187529                   NaN   709 sqft        NaN        NaN  \n",
      "187530              Freehold  1915 sqft        NaN        NaN  \n",
      "\n",
      "[187531 rows x 21 columns]\n"
     ]
    }
   ],
   "source": [
    "print(data)"
   ]
  },
  {
   "cell_type": "code",
   "execution_count": 5,
   "id": "5527487a",
   "metadata": {},
   "outputs": [
    {
     "name": "stdout",
     "output_type": "stream",
     "text": [
      "<bound method NDFrame.describe of          Index                                              Title  \\\n",
      "0            0  1 BHK Ready to Occupy Flat for sale in Srushti...   \n",
      "1            1  2 BHK Ready to Occupy Flat for sale in Dosti V...   \n",
      "2            2  2 BHK Ready to Occupy Flat for sale in Sunrise...   \n",
      "3            3        1 BHK Ready to Occupy Flat for sale Kasheli   \n",
      "4            4  2 BHK Ready to Occupy Flat for sale in TenX Ha...   \n",
      "...        ...                                                ...   \n",
      "187526  187526  3 BHK Ready to Occupy Flat for sale in Bollywo...   \n",
      "187527  187527  3 BHK Ready to Occupy Flat for sale in Sushma ...   \n",
      "187528  187528  3 BHK Ready to Occupy Flat for sale in Bollywo...   \n",
      "187529  187529  2 BHK Ready to Occupy Flat for sale in Friends...   \n",
      "187530  187530  3 BHK Ready to Occupy Flat for sale in Affinit...   \n",
      "\n",
      "                                              Description Amount(in rupees)  \\\n",
      "0       Bhiwandi, Thane has an attractive 1 BHK Flat f...           42 Lac    \n",
      "1       One can find this stunning 2 BHK flat for sale...           98 Lac    \n",
      "2       Up for immediate sale is a 2 BHK apartment in ...          1.40 Cr    \n",
      "3       This beautiful 1 BHK Flat is available for sal...           25 Lac    \n",
      "4       This lovely 2 BHK Flat in Pokhran Road, Thane ...          1.60 Cr    \n",
      "...                                                   ...               ...   \n",
      "187526  This magnificent 3 BHK Flat is available for s...           63 Lac    \n",
      "187527  Have a look at this immaculate 3 BHK flat for ...           55 Lac    \n",
      "187528  Gazipur, Zirakpur has an appealing 3 BHK flat ...           76 Lac    \n",
      "187529  Up for immediate sale is a 2 BHK apartment in ...           30 Lac    \n",
      "187530  This exquisite 3 BHK Flat is offered for sale ...          1.18 Cr    \n",
      "\n",
      "        Price (in rupees)  location Carpet Area         Status         Floor  \\\n",
      "0                  6000.0     thane    500 sqft  Ready to Move  10 out of 11   \n",
      "1                 13799.0     thane    473 sqft  Ready to Move   3 out of 22   \n",
      "2                 17500.0     thane    779 sqft  Ready to Move  10 out of 29   \n",
      "3                     NaN     thane    530 sqft  Ready to Move    1 out of 3   \n",
      "4                 18824.0     thane    635 sqft  Ready to Move  20 out of 42   \n",
      "...                   ...       ...         ...            ...           ...   \n",
      "187526             3225.0  zirakpur         NaN  Ready to Move    2 out of 4   \n",
      "187527             3274.0  zirakpur         NaN  Ready to Move    4 out of 6   \n",
      "187528             4343.0  zirakpur   1250 sqft  Ready to Move    1 out of 3   \n",
      "187529             4231.0  zirakpur         NaN  Ready to Move    2 out of 2   \n",
      "187530             6162.0  zirakpur         NaN  Ready to Move   5 out of 13   \n",
      "\n",
      "         Transaction  ...        facing             overlooking  \\\n",
      "0             Resale  ...           NaN                     NaN   \n",
      "1             Resale  ...          East             Garden/Park   \n",
      "2             Resale  ...          East             Garden/Park   \n",
      "3             Resale  ...           NaN                     NaN   \n",
      "4             Resale  ...          West  Garden/Park, Main Road   \n",
      "...              ...  ...           ...                     ...   \n",
      "187526  New Property  ...          East             Garden/Park   \n",
      "187527        Resale  ...  North - East  Garden/Park, Main Road   \n",
      "187528        Resale  ...          East  Garden/Park, Main Road   \n",
      "187529        Resale  ...           NaN               Main Road   \n",
      "187530        Resale  ...  North - East       Garden/Park, Pool   \n",
      "\n",
      "                                    Society Bathroom Balcony Car Parking  \\\n",
      "0       Srushti Siddhi Mangal Murti Complex        1       2         NaN   \n",
      "1                               Dosti Vihar        2     NaN      1 Open   \n",
      "2                      Sunrise by Kalpataru        2     NaN   1 Covered   \n",
      "3                                       NaN        1       1         NaN   \n",
      "4               TenX Habitat Raymond Realty        2     NaN   1 Covered   \n",
      "...                                     ...      ...     ...         ...   \n",
      "187526                    Bollywood Esencia        3       3   1 Covered   \n",
      "187527                   Sushma Urban Views        3     NaN   1 Covered   \n",
      "187528                    Bollywood Esencia        3       2  1 Covered,   \n",
      "187529                      Friends Enclave        2     NaN         NaN   \n",
      "187530                      Affinity Greens        4       4   1 Covered   \n",
      "\n",
      "                   Ownership Super Area Dimensions  Plot Area  \n",
      "0                        NaN        NaN        NaN        NaN  \n",
      "1                   Freehold        NaN        NaN        NaN  \n",
      "2                   Freehold        NaN        NaN        NaN  \n",
      "3                        NaN        NaN        NaN        NaN  \n",
      "4       Co-operative Society        NaN        NaN        NaN  \n",
      "...                      ...        ...        ...        ...  \n",
      "187526              Freehold  1953 sqft        NaN        NaN  \n",
      "187527                   NaN  1680 sqft        NaN        NaN  \n",
      "187528              Freehold        NaN        NaN        NaN  \n",
      "187529                   NaN   709 sqft        NaN        NaN  \n",
      "187530              Freehold  1915 sqft        NaN        NaN  \n",
      "\n",
      "[187531 rows x 21 columns]>\n"
     ]
    }
   ],
   "source": [
    "print(data.describe)"
   ]
  },
  {
   "cell_type": "code",
   "execution_count": 6,
   "id": "d3b2c9cc",
   "metadata": {},
   "outputs": [
    {
     "name": "stdout",
     "output_type": "stream",
     "text": [
      "Index                     0\n",
      "Title                     0\n",
      "Description            3023\n",
      "Amount(in rupees)         0\n",
      "Price (in rupees)     17665\n",
      "location                  0\n",
      "Carpet Area           80673\n",
      "Status                  615\n",
      "Floor                  7077\n",
      "Transaction              83\n",
      "Furnishing             2897\n",
      "facing                70233\n",
      "overlooking           81436\n",
      "Society              109678\n",
      "Bathroom                828\n",
      "Balcony               48935\n",
      "Car Parking          103357\n",
      "Ownership             65517\n",
      "Super Area           107685\n",
      "Dimensions           187531\n",
      "Plot Area            187531\n",
      "dtype: int64\n"
     ]
    }
   ],
   "source": [
    "print(data.isnull().sum())"
   ]
  },
  {
   "cell_type": "code",
   "execution_count": 7,
   "id": "434c541d",
   "metadata": {},
   "outputs": [
    {
     "name": "stdout",
     "output_type": "stream",
     "text": [
      "<bound method DataFrame.info of          Index                                              Title  \\\n",
      "0            0  1 BHK Ready to Occupy Flat for sale in Srushti...   \n",
      "1            1  2 BHK Ready to Occupy Flat for sale in Dosti V...   \n",
      "2            2  2 BHK Ready to Occupy Flat for sale in Sunrise...   \n",
      "3            3        1 BHK Ready to Occupy Flat for sale Kasheli   \n",
      "4            4  2 BHK Ready to Occupy Flat for sale in TenX Ha...   \n",
      "...        ...                                                ...   \n",
      "187526  187526  3 BHK Ready to Occupy Flat for sale in Bollywo...   \n",
      "187527  187527  3 BHK Ready to Occupy Flat for sale in Sushma ...   \n",
      "187528  187528  3 BHK Ready to Occupy Flat for sale in Bollywo...   \n",
      "187529  187529  2 BHK Ready to Occupy Flat for sale in Friends...   \n",
      "187530  187530  3 BHK Ready to Occupy Flat for sale in Affinit...   \n",
      "\n",
      "                                              Description Amount(in rupees)  \\\n",
      "0       Bhiwandi, Thane has an attractive 1 BHK Flat f...           42 Lac    \n",
      "1       One can find this stunning 2 BHK flat for sale...           98 Lac    \n",
      "2       Up for immediate sale is a 2 BHK apartment in ...          1.40 Cr    \n",
      "3       This beautiful 1 BHK Flat is available for sal...           25 Lac    \n",
      "4       This lovely 2 BHK Flat in Pokhran Road, Thane ...          1.60 Cr    \n",
      "...                                                   ...               ...   \n",
      "187526  This magnificent 3 BHK Flat is available for s...           63 Lac    \n",
      "187527  Have a look at this immaculate 3 BHK flat for ...           55 Lac    \n",
      "187528  Gazipur, Zirakpur has an appealing 3 BHK flat ...           76 Lac    \n",
      "187529  Up for immediate sale is a 2 BHK apartment in ...           30 Lac    \n",
      "187530  This exquisite 3 BHK Flat is offered for sale ...          1.18 Cr    \n",
      "\n",
      "        Price (in rupees)  location Carpet Area         Status         Floor  \\\n",
      "0                  6000.0     thane    500 sqft  Ready to Move  10 out of 11   \n",
      "1                 13799.0     thane    473 sqft  Ready to Move   3 out of 22   \n",
      "2                 17500.0     thane    779 sqft  Ready to Move  10 out of 29   \n",
      "3                     NaN     thane    530 sqft  Ready to Move    1 out of 3   \n",
      "4                 18824.0     thane    635 sqft  Ready to Move  20 out of 42   \n",
      "...                   ...       ...         ...            ...           ...   \n",
      "187526             3225.0  zirakpur         NaN  Ready to Move    2 out of 4   \n",
      "187527             3274.0  zirakpur         NaN  Ready to Move    4 out of 6   \n",
      "187528             4343.0  zirakpur   1250 sqft  Ready to Move    1 out of 3   \n",
      "187529             4231.0  zirakpur         NaN  Ready to Move    2 out of 2   \n",
      "187530             6162.0  zirakpur         NaN  Ready to Move   5 out of 13   \n",
      "\n",
      "         Transaction  ...        facing             overlooking  \\\n",
      "0             Resale  ...           NaN                     NaN   \n",
      "1             Resale  ...          East             Garden/Park   \n",
      "2             Resale  ...          East             Garden/Park   \n",
      "3             Resale  ...           NaN                     NaN   \n",
      "4             Resale  ...          West  Garden/Park, Main Road   \n",
      "...              ...  ...           ...                     ...   \n",
      "187526  New Property  ...          East             Garden/Park   \n",
      "187527        Resale  ...  North - East  Garden/Park, Main Road   \n",
      "187528        Resale  ...          East  Garden/Park, Main Road   \n",
      "187529        Resale  ...           NaN               Main Road   \n",
      "187530        Resale  ...  North - East       Garden/Park, Pool   \n",
      "\n",
      "                                    Society Bathroom Balcony Car Parking  \\\n",
      "0       Srushti Siddhi Mangal Murti Complex        1       2         NaN   \n",
      "1                               Dosti Vihar        2     NaN      1 Open   \n",
      "2                      Sunrise by Kalpataru        2     NaN   1 Covered   \n",
      "3                                       NaN        1       1         NaN   \n",
      "4               TenX Habitat Raymond Realty        2     NaN   1 Covered   \n",
      "...                                     ...      ...     ...         ...   \n",
      "187526                    Bollywood Esencia        3       3   1 Covered   \n",
      "187527                   Sushma Urban Views        3     NaN   1 Covered   \n",
      "187528                    Bollywood Esencia        3       2  1 Covered,   \n",
      "187529                      Friends Enclave        2     NaN         NaN   \n",
      "187530                      Affinity Greens        4       4   1 Covered   \n",
      "\n",
      "                   Ownership Super Area Dimensions  Plot Area  \n",
      "0                        NaN        NaN        NaN        NaN  \n",
      "1                   Freehold        NaN        NaN        NaN  \n",
      "2                   Freehold        NaN        NaN        NaN  \n",
      "3                        NaN        NaN        NaN        NaN  \n",
      "4       Co-operative Society        NaN        NaN        NaN  \n",
      "...                      ...        ...        ...        ...  \n",
      "187526              Freehold  1953 sqft        NaN        NaN  \n",
      "187527                   NaN  1680 sqft        NaN        NaN  \n",
      "187528              Freehold        NaN        NaN        NaN  \n",
      "187529                   NaN   709 sqft        NaN        NaN  \n",
      "187530              Freehold  1915 sqft        NaN        NaN  \n",
      "\n",
      "[187531 rows x 21 columns]>\n"
     ]
    }
   ],
   "source": [
    "print(data.info)"
   ]
  },
  {
   "cell_type": "code",
   "execution_count": 8,
   "id": "618dc3d5",
   "metadata": {},
   "outputs": [
    {
     "name": "stderr",
     "output_type": "stream",
     "text": [
      "c:\\ProgramData\\anaconda3\\Lib\\site-packages\\seaborn\\matrix.py:260: FutureWarning: Format strings passed to MaskedConstant are ignored, but in future may error or produce different behavior\n",
      "  annotation = (\"{:\" + self.fmt + \"}\").format(val)\n"
     ]
    },
    {
     "data": {
      "text/plain": [
       "<Axes: >"
      ]
     },
     "execution_count": 8,
     "metadata": {},
     "output_type": "execute_result"
    },
    {
     "data": {
      "image/png": "[encoded data removed]",
      "text/plain": [
       "<Figure size 640x480 with 2 Axes>"
      ]
     },
     "metadata": {},
     "output_type": "display_data"
    }
   ],
   "source": [
    "numeric_data = data.select_dtypes(include=['int64', 'float64'])\n",
    "sns.heatmap(numeric_data.corr(), annot=True, cmap='coolwarm')"
   ]
  },
  {
   "cell_type": "code",
   "execution_count": 9,
   "id": "e5833f24",
   "metadata": {},
   "outputs": [],
   "source": [
    "def convert_amount(val):\n",
    "  if pd.isna(val):\n",
    "    return None\n",
    "  val = val.strip().replace(\"Cr\", \"\").replace(\"Lac\", \"\").strip()\n",
    "  if \"Cr\" in val:\n",
    "    return float(val) * 10000000\n",
    "  elif \"Lac\" in val:\n",
    "    return float(val) * 100000\n",
    "  else:\n",
    "    try:\n",
    "      return float(val.replace(\",\", \"\"))\n",
    "    except:\n",
    "      return None\n",
    "\n",
    "data['Amount_num'] = data['Amount(in rupees)'].str.replace('Cr', '').str.replace('Lac', '')\n",
    "data['Amount_num'] = data['Amount_num'].str.strip().astype('str').str.replace('Lac', '')\n",
    "data['Amount_num'] = pd.to_numeric(data['Amount_num'], errors='coerce')\n"
   ]
  },
  {
   "cell_type": "code",
   "execution_count": 10,
   "id": "c1078143",
   "metadata": {},
   "outputs": [],
   "source": [
    "data['Carpet Area'] = data['Carpet Area'].str.extract(r'(\\d+)').astype(float)"
   ]
  },
  {
   "cell_type": "code",
   "execution_count": 11,
   "id": "d8410097",
   "metadata": {},
   "outputs": [],
   "source": [
    "data['Floor'] = data['Floor'].str.extract(r'(\\d+)').astype(float)"
   ]
  },
  {
   "cell_type": "code",
   "execution_count": 12,
   "id": "d7f35512",
   "metadata": {},
   "outputs": [],
   "source": [
    "data['Bathroom'] = pd.to_numeric(data['Bathroom'], errors='coerce')\n",
    "data['Balcony'] = pd.to_numeric(data['Balcony'], errors='coerce')"
   ]
  },
  {
   "cell_type": "code",
   "execution_count": 13,
   "id": "7a1af8b6",
   "metadata": {},
   "outputs": [],
   "source": [
    "features = [\n",
    "  'Amount_num',\n",
    "  'Carpet Area',\n",
    "  'Floor',\n",
    "  'Bathroom',\n",
    "  'Balcony'\n",
    "]\n",
    "\n",
    "X = data[features]\n",
    "y = data['Price (in rupees)']\n",
    "\n",
    "df_clean = pd.concat([X, y], axis=1).dropna(subset=['Price (in rupees)'])\n",
    "X = df_clean[features]\n",
    "y = df_clean['Price (in rupees)']"
   ]
  },
  {
   "cell_type": "code",
   "execution_count": 14,
   "id": "ce9ef74a",
   "metadata": {},
   "outputs": [],
   "source": [
    "X_train, X_test, y_train, y_test = train_test_split(\n",
    "  X, y, test_size=0.2, random_state=42\n",
    ")\n",
    "\n",
    "pipeline = Pipeline([\n",
    "  ('imputer', SimpleImputer(strategy='median')),\n",
    "  ('model', LinearRegression())\n",
    "])\n",
    "\n",
    "pipeline.fit(X_train, y_train)\n",
    "y_pred = pipeline.predict(X_test)"
   ]
  },
  {
   "cell_type": "code",
   "execution_count": 15,
   "id": "8a5e7c18",
   "metadata": {},
   "outputs": [
    {
     "name": "stdout",
     "output_type": "stream",
     "text": [
      "MSE :  44529.661122726095\n",
      "R2 Score :  -0.002090447812459928\n"
     ]
    }
   ],
   "source": [
    "rmse = np.sqrt(mean_squared_error(y_test, y_pred))\n",
    "r2 = r2_score(y_test, y_pred)\n",
    "\n",
    "print(\"MSE : \", rmse)\n",
    "print(\"R2 Score : \", r2)"
   ]
  },
  {
   "cell_type": "code",
   "execution_count": 16,
   "id": "5c836594",
   "metadata": {},
   "outputs": [
    {
     "data": {
      "image/png": "[encoded data removed]",
      "text/plain": [
       "<Figure size 800x600 with 1 Axes>"
      ]
     },
     "metadata": {},
     "output_type": "display_data"
    }
   ],
   "source": [
    "plt.figure(figsize=(8, 6))\n",
    "plt.scatter(y_test, y_pred, alpha=0.4, color='green', label='Prediksi vs Aktual')\n",
    "plt.plot([y_test.min(), y_test.max()], [y_test.min(), y_test.max()], 'r--', label='Tidak Line')\n",
    "plt.xlabel('Harga Aktual (in rupees)')\n",
    "plt.ylabel('Harga Prediksi (in rupees)')\n",
    "plt.title('Prediksi vs Harga Aktual Rumah')\n",
    "plt.legend()\n",
    "plt.grid(True)\n",
    "plt.tight_layout()\n",
    "plt.show()\n"
   ]
  },
  {
   "cell_type": "code",
   "execution_count": 17,
   "id": "67047ed1",
   "metadata": {},
   "outputs": [
    {
     "name": "stdout",
     "output_type": "stream",
     "text": [
      "Koefisien Error\n",
      "Bathroom       1376.303700\n",
      "Balcony         309.276850\n",
      "Floor           102.357891\n",
      "Carpet Area       0.030644\n",
      "Amount_num      -19.018719\n",
      "dtype: float64\n"
     ]
    }
   ],
   "source": [
    "model = pipeline.named_steps['model']\n",
    "coefs = pd.Series(model.coef_, index=features).sort_values(ascending=False)\n",
    "\n",
    "print(\"Koefisien Error\")\n",
    "print(coefs)"
   ]
  },
  {
   "cell_type": "code",
   "execution_count": 18,
   "id": "01dd23bb",
   "metadata": {},
   "outputs": [
    {
     "data": {
      "image/png": "[encoded data removed]",
      "text/plain": [
       "<Figure size 640x480 with 1 Axes>"
      ]
     },
     "metadata": {},
     "output_type": "display_data"
    }
   ],
   "source": [
    "coefs.plot(kind='barh', title='Pengaruh Fitur Terhadap Harga')\n",
    "plt.xlabel(\"Koefisien\")\n",
    "plt.grid(True)\n",
    "plt.show()\n"
   ]
  }
 ],
 "metadata": {
  "kernelspec": {
   "display_name": "base",
   "language": "python",
   "name": "python3"
  },
  "language_info": {
   "codemirror_mode": {
    "name": "ipython",
    "version": 3
   },
   "file_extension": ".py",
   "mimetype": "text/x-python",
   "name": "python",
   "nbconvert_exporter": "python",
   "pygments_lexer": "ipython3",
   "version": "3.11.11"
  }
 },
 "nbformat": 4,
 "nbformat_minor": 5
}
